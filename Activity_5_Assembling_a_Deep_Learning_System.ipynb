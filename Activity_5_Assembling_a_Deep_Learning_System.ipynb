{
 "cells": [
  {
   "cell_type": "markdown",
   "metadata": {},
   "source": [
    "# Activity 5: Assembling a Deep Learning System\n",
    "In this activity, we will train the first version of our LSTM model using Bitcoin daily closing prices. These prices will be organized using the weeks of both 2016 and 2017. We do that because we are interested in predicting the prices of a week's worth of trading."
   ]
  },
  {
   "cell_type": "code",
   "execution_count": 1,
   "metadata": {},
   "outputs": [],
   "source": [
    "#%autosave 5\n",
    "\n",
    "#  Import necessary libraries\n",
    "import numpy as np\n",
    "import pandas as pd\n",
    "import matplotlib.pyplot as plt\n",
    "%matplotlib inline\n",
    "plt.style.use('seaborn-white')\n",
    "\n",
    "from keras.models import load_model"
   ]
  },
  {
   "cell_type": "code",
   "execution_count": 2,
   "metadata": {},
   "outputs": [
    {
     "data": {
      "text/html": [
       "<div>\n",
       "<style scoped>\n",
       "    .dataframe tbody tr th:only-of-type {\n",
       "        vertical-align: middle;\n",
       "    }\n",
       "\n",
       "    .dataframe tbody tr th {\n",
       "        vertical-align: top;\n",
       "    }\n",
       "\n",
       "    .dataframe thead th {\n",
       "        text-align: right;\n",
       "    }\n",
       "</style>\n",
       "<table border=\"1\" class=\"dataframe\">\n",
       "  <thead>\n",
       "    <tr style=\"text-align: right;\">\n",
       "      <th></th>\n",
       "      <th>date</th>\n",
       "      <th>iso_week</th>\n",
       "      <th>close</th>\n",
       "      <th>volume</th>\n",
       "      <th>close_point_relative_normalization</th>\n",
       "      <th>volume_point_relative_normalization</th>\n",
       "    </tr>\n",
       "  </thead>\n",
       "  <tbody>\n",
       "    <tr>\n",
       "      <th>0</th>\n",
       "      <td>2016-01-01</td>\n",
       "      <td>2016-00</td>\n",
       "      <td>434.33</td>\n",
       "      <td>36278900.0</td>\n",
       "      <td>0.000000</td>\n",
       "      <td>0.000000</td>\n",
       "    </tr>\n",
       "    <tr>\n",
       "      <th>1</th>\n",
       "      <td>2016-01-02</td>\n",
       "      <td>2016-00</td>\n",
       "      <td>433.44</td>\n",
       "      <td>30096600.0</td>\n",
       "      <td>-0.002049</td>\n",
       "      <td>-0.170410</td>\n",
       "    </tr>\n",
       "    <tr>\n",
       "      <th>2</th>\n",
       "      <td>2016-01-03</td>\n",
       "      <td>2016-01</td>\n",
       "      <td>430.01</td>\n",
       "      <td>39633800.0</td>\n",
       "      <td>0.000000</td>\n",
       "      <td>0.000000</td>\n",
       "    </tr>\n",
       "    <tr>\n",
       "      <th>3</th>\n",
       "      <td>2016-01-04</td>\n",
       "      <td>2016-01</td>\n",
       "      <td>433.09</td>\n",
       "      <td>38477500.0</td>\n",
       "      <td>0.007163</td>\n",
       "      <td>-0.029175</td>\n",
       "    </tr>\n",
       "    <tr>\n",
       "      <th>4</th>\n",
       "      <td>2016-01-05</td>\n",
       "      <td>2016-01</td>\n",
       "      <td>431.96</td>\n",
       "      <td>34522600.0</td>\n",
       "      <td>0.004535</td>\n",
       "      <td>-0.128961</td>\n",
       "    </tr>\n",
       "  </tbody>\n",
       "</table>\n",
       "</div>"
      ],
      "text/plain": [
       "         date iso_week   close      volume  \\\n",
       "0  2016-01-01  2016-00  434.33  36278900.0   \n",
       "1  2016-01-02  2016-00  433.44  30096600.0   \n",
       "2  2016-01-03  2016-01  430.01  39633800.0   \n",
       "3  2016-01-04  2016-01  433.09  38477500.0   \n",
       "4  2016-01-05  2016-01  431.96  34522600.0   \n",
       "\n",
       "   close_point_relative_normalization  volume_point_relative_normalization  \n",
       "0                            0.000000                             0.000000  \n",
       "1                           -0.002049                            -0.170410  \n",
       "2                            0.000000                             0.000000  \n",
       "3                            0.007163                            -0.029175  \n",
       "4                            0.004535                            -0.128961  "
      ]
     },
     "execution_count": 2,
     "metadata": {},
     "output_type": "execute_result"
    }
   ],
   "source": [
    "#  Import training dataset\n",
    "train = pd.read_csv('/home/praveen/Desktop/Projects/technocolab/Activity_3/Data/train_dataset.csv')\n",
    "train.head()"
   ]
  },
  {
   "cell_type": "markdown",
   "metadata": {},
   "source": [
    "## Reshape Data"
   ]
  },
  {
   "cell_type": "code",
   "execution_count": 3,
   "metadata": {},
   "outputs": [],
   "source": [
    "def create_groups(data, group_size=7):\n",
    "    \"\"\"Create distinct groups from a continuous series.\n",
    "    \n",
    "    Parameters\n",
    "    ----------\n",
    "    data: np.array\n",
    "        Series of continious observations.\n",
    "\n",
    "    group_size: int, default 7\n",
    "        Determines how large the groups are. That is,\n",
    "        how many observations each group contains.\n",
    "    \n",
    "    Returns\n",
    "    -------\n",
    "    A Numpy array object. \n",
    "    \"\"\"\n",
    "    samples = []\n",
    "    for i in range(0, len(data), group_size):\n",
    "        sample = list(data[i:i + group_size])\n",
    "        if len(sample) == group_size:\n",
    "            samples.append(np.array(sample).reshape(1, group_size))\n",
    "    \n",
    "    return np.array(samples)"
   ]
  },
  {
   "cell_type": "code",
   "execution_count": 4,
   "metadata": {},
   "outputs": [
    {
     "data": {
      "text/plain": [
       "2"
      ]
     },
     "execution_count": 4,
     "metadata": {},
     "output_type": "execute_result"
    }
   ],
   "source": [
    "#  Find the remainder when the number of observations is divided by group size\n",
    "len(train) % 7"
   ]
  },
  {
   "cell_type": "code",
   "execution_count": 5,
   "metadata": {},
   "outputs": [
    {
     "name": "stdout",
     "output_type": "stream",
     "text": [
      "(77, 1, 7)\n"
     ]
    }
   ],
   "source": [
    "#  Create groups of 7 from our data.\n",
    "#  We drop the first two observations so that the\n",
    "#  number of total observations is divisible by the `group_size`.\n",
    "data = create_groups(train['close_point_relative_normalization'][2:].values)\n",
    "print(data.shape)"
   ]
  },
  {
   "cell_type": "code",
   "execution_count": 6,
   "metadata": {},
   "outputs": [
    {
     "name": "stdout",
     "output_type": "stream",
     "text": [
      "(1, 76, 7)\n",
      "(1, 7)\n"
     ]
    }
   ],
   "source": [
    "#  Reshape data into format expected by LSTM layer\n",
    "X_train = data[:-1, :].reshape(1, 76, 7)\n",
    "Y_validation = data[-1].reshape(1, 7)\n",
    "print(X_train.shape)\n",
    "print(Y_validation.shape)"
   ]
  },
  {
   "cell_type": "markdown",
   "metadata": {},
   "source": [
    "## Load Our Model"
   ]
  },
  {
   "cell_type": "code",
   "execution_count": 7,
   "metadata": {},
   "outputs": [],
   "source": [
    "#  Load our previously trained model \n",
    "model = load_model('/home/praveen/Desktop/Projects/technocolab/Activity_4/bitcoin_lstm_v0.h5')"
   ]
  },
  {
   "cell_type": "markdown",
   "metadata": {},
   "source": [
    "## Train model"
   ]
  },
  {
   "cell_type": "code",
   "execution_count": 8,
   "metadata": {
    "scrolled": true
   },
   "outputs": [
    {
     "name": "stdout",
     "output_type": "stream",
     "text": [
      "Epoch 1/100\n",
      "1/1 [==============================] - 0s 605us/step - loss: 0.0016\n",
      "Epoch 2/100\n",
      "1/1 [==============================] - 0s 596us/step - loss: 0.0012\n",
      "Epoch 3/100\n",
      "1/1 [==============================] - 0s 582us/step - loss: 9.6434e-04\n",
      "Epoch 4/100\n",
      "1/1 [==============================] - 0s 778us/step - loss: 8.1095e-04\n",
      "Epoch 5/100\n",
      "1/1 [==============================] - 0s 649us/step - loss: 6.9440e-04\n",
      "Epoch 6/100\n",
      "1/1 [==============================] - 0s 567us/step - loss: 6.0113e-04\n",
      "Epoch 7/100\n",
      "1/1 [==============================] - 0s 468us/step - loss: 5.2443e-04\n",
      "Epoch 8/100\n",
      "1/1 [==============================] - 0s 837us/step - loss: 4.6023e-04\n",
      "Epoch 9/100\n",
      "1/1 [==============================] - 0s 848us/step - loss: 4.0571e-04\n",
      "Epoch 10/100\n",
      "1/1 [==============================] - 0s 674us/step - loss: 3.5886e-04\n",
      "Epoch 11/100\n",
      "1/1 [==============================] - 0s 510us/step - loss: 3.1815e-04\n",
      "Epoch 12/100\n",
      "1/1 [==============================] - 0s 580us/step - loss: 2.8246e-04\n",
      "Epoch 13/100\n",
      "1/1 [==============================] - 0s 655us/step - loss: 2.5094e-04\n",
      "Epoch 14/100\n",
      "1/1 [==============================] - 0s 646us/step - loss: 2.2298e-04\n",
      "Epoch 15/100\n",
      "1/1 [==============================] - 0s 597us/step - loss: 1.9817e-04\n",
      "Epoch 16/100\n",
      "1/1 [==============================] - 0s 606us/step - loss: 1.7648e-04\n",
      "Epoch 17/100\n",
      "1/1 [==============================] - 0s 655us/step - loss: 1.5797e-04\n",
      "Epoch 18/100\n",
      "1/1 [==============================] - 0s 439us/step - loss: 1.4222e-04\n",
      "Epoch 19/100\n",
      "1/1 [==============================] - 0s 611us/step - loss: 1.2656e-04\n",
      "Epoch 20/100\n",
      "1/1 [==============================] - 0s 711us/step - loss: 1.1072e-04\n",
      "Epoch 21/100\n",
      "1/1 [==============================] - 0s 625us/step - loss: 9.6464e-05\n",
      "Epoch 22/100\n",
      "1/1 [==============================] - 0s 833us/step - loss: 8.4001e-05\n",
      "Epoch 23/100\n",
      "1/1 [==============================] - 0s 515us/step - loss: 7.3192e-05\n",
      "Epoch 24/100\n",
      "1/1 [==============================] - 0s 453us/step - loss: 6.3671e-05\n",
      "Epoch 25/100\n",
      "1/1 [==============================] - 0s 546us/step - loss: 5.5265e-05\n",
      "Epoch 26/100\n",
      "1/1 [==============================] - 0s 871us/step - loss: 4.7836e-05\n",
      "Epoch 27/100\n",
      "1/1 [==============================] - 0s 720us/step - loss: 4.1307e-05\n",
      "Epoch 28/100\n",
      "1/1 [==============================] - 0s 706us/step - loss: 3.5635e-05\n",
      "Epoch 29/100\n",
      "1/1 [==============================] - 0s 657us/step - loss: 3.0808e-05\n",
      "Epoch 30/100\n",
      "1/1 [==============================] - 0s 601us/step - loss: 2.6845e-05\n",
      "Epoch 31/100\n",
      "1/1 [==============================] - 0s 592us/step - loss: 2.3681e-05\n",
      "Epoch 32/100\n",
      "1/1 [==============================] - 0s 691us/step - loss: 2.1042e-05\n",
      "Epoch 33/100\n",
      "1/1 [==============================] - 0s 787us/step - loss: 1.8467e-05\n",
      "Epoch 34/100\n",
      "1/1 [==============================] - 0s 1ms/step - loss: 1.5639e-05\n",
      "Epoch 35/100\n",
      "1/1 [==============================] - 0s 478us/step - loss: 1.2925e-05\n",
      "Epoch 36/100\n",
      "1/1 [==============================] - 0s 602us/step - loss: 1.0423e-05\n",
      "Epoch 37/100\n",
      "1/1 [==============================] - 0s 608us/step - loss: 8.4358e-06\n",
      "Epoch 38/100\n",
      "1/1 [==============================] - 0s 561us/step - loss: 6.8040e-06\n",
      "Epoch 39/100\n",
      "1/1 [==============================] - 0s 567us/step - loss: 5.5836e-06\n",
      "Epoch 40/100\n",
      "1/1 [==============================] - 0s 698us/step - loss: 4.6367e-06\n",
      "Epoch 41/100\n",
      "1/1 [==============================] - 0s 805us/step - loss: 4.0027e-06\n",
      "Epoch 42/100\n",
      "1/1 [==============================] - 0s 608us/step - loss: 3.5884e-06\n",
      "Epoch 43/100\n",
      "1/1 [==============================] - 0s 738us/step - loss: 3.4488e-06\n",
      "Epoch 44/100\n",
      "1/1 [==============================] - 0s 955us/step - loss: 3.4521e-06\n",
      "Epoch 45/100\n",
      "1/1 [==============================] - 0s 779us/step - loss: 3.6213e-06\n",
      "Epoch 46/100\n",
      "1/1 [==============================] - 0s 875us/step - loss: 3.6734e-06\n",
      "Epoch 47/100\n",
      "1/1 [==============================] - 0s 947us/step - loss: 3.6801e-06\n",
      "Epoch 48/100\n",
      "1/1 [==============================] - 0s 739us/step - loss: 3.3906e-06\n",
      "Epoch 49/100\n",
      "1/1 [==============================] - 0s 773us/step - loss: 3.1328e-06\n",
      "Epoch 50/100\n",
      "1/1 [==============================] - 0s 1ms/step - loss: 2.7453e-06\n",
      "Epoch 51/100\n",
      "1/1 [==============================] - 0s 675us/step - loss: 2.5464e-06\n",
      "Epoch 52/100\n",
      "1/1 [==============================] - 0s 763us/step - loss: 2.3396e-06\n",
      "Epoch 53/100\n",
      "1/1 [==============================] - 0s 791us/step - loss: 2.3487e-06\n",
      "Epoch 54/100\n",
      "1/1 [==============================] - 0s 769us/step - loss: 2.3719e-06\n",
      "Epoch 55/100\n",
      "1/1 [==============================] - 0s 1ms/step - loss: 2.6177e-06\n",
      "Epoch 56/100\n",
      "1/1 [==============================] - 0s 951us/step - loss: 2.8543e-06\n",
      "Epoch 57/100\n",
      "1/1 [==============================] - 0s 1ms/step - loss: 3.3170e-06\n",
      "Epoch 58/100\n",
      "1/1 [==============================] - 0s 728us/step - loss: 3.6300e-06\n",
      "Epoch 59/100\n",
      "1/1 [==============================] - 0s 658us/step - loss: 4.0701e-06\n",
      "Epoch 60/100\n",
      "1/1 [==============================] - 0s 761us/step - loss: 4.0665e-06\n",
      "Epoch 61/100\n",
      "1/1 [==============================] - 0s 790us/step - loss: 4.0960e-06\n",
      "Epoch 62/100\n",
      "1/1 [==============================] - 0s 576us/step - loss: 3.6589e-06\n",
      "Epoch 63/100\n",
      "1/1 [==============================] - 0s 694us/step - loss: 3.4089e-06\n",
      "Epoch 64/100\n",
      "1/1 [==============================] - 0s 618us/step - loss: 2.9522e-06\n",
      "Epoch 65/100\n",
      "1/1 [==============================] - 0s 877us/step - loss: 2.7716e-06\n",
      "Epoch 66/100\n",
      "1/1 [==============================] - 0s 728us/step - loss: 2.5214e-06\n",
      "Epoch 67/100\n",
      "1/1 [==============================] - 0s 501us/step - loss: 2.5163e-06\n",
      "Epoch 68/100\n",
      "1/1 [==============================] - 0s 555us/step - loss: 2.4707e-06\n",
      "Epoch 69/100\n",
      "1/1 [==============================] - 0s 701us/step - loss: 2.6472e-06\n",
      "Epoch 70/100\n",
      "1/1 [==============================] - 0s 485us/step - loss: 2.8568e-06\n",
      "Epoch 71/100\n",
      "1/1 [==============================] - 0s 708us/step - loss: 3.6344e-06\n",
      "Epoch 72/100\n",
      "1/1 [==============================] - 0s 566us/step - loss: 5.4609e-06\n",
      "Epoch 73/100\n",
      "1/1 [==============================] - 0s 581us/step - loss: 7.0229e-06\n",
      "Epoch 74/100\n",
      "1/1 [==============================] - 0s 730us/step - loss: 5.4224e-06\n",
      "Epoch 75/100\n",
      "1/1 [==============================] - 0s 839us/step - loss: 2.9656e-06\n",
      "Epoch 76/100\n",
      "1/1 [==============================] - 0s 676us/step - loss: 1.5976e-06\n",
      "Epoch 77/100\n",
      "1/1 [==============================] - 0s 757us/step - loss: 9.2594e-07\n",
      "Epoch 78/100\n",
      "1/1 [==============================] - 0s 616us/step - loss: 6.3579e-07\n",
      "Epoch 79/100\n",
      "1/1 [==============================] - 0s 601us/step - loss: 5.1787e-07\n",
      "Epoch 80/100\n",
      "1/1 [==============================] - 0s 808us/step - loss: 5.1603e-07\n",
      "Epoch 81/100\n",
      "1/1 [==============================] - 0s 918us/step - loss: 6.3210e-07\n",
      "Epoch 82/100\n",
      "1/1 [==============================] - 0s 680us/step - loss: 9.7985e-07\n",
      "Epoch 83/100\n",
      "1/1 [==============================] - 0s 725us/step - loss: 1.8704e-06\n",
      "Epoch 84/100\n",
      "1/1 [==============================] - 0s 605us/step - loss: 3.9558e-06\n",
      "Epoch 85/100\n",
      "1/1 [==============================] - 0s 591us/step - loss: 7.0866e-06\n",
      "Epoch 86/100\n",
      "1/1 [==============================] - 0s 582us/step - loss: 1.0204e-05\n",
      "Epoch 87/100\n",
      "1/1 [==============================] - 0s 589us/step - loss: 1.1038e-05\n",
      "Epoch 88/100\n",
      "1/1 [==============================] - 0s 579us/step - loss: 9.7179e-06\n",
      "Epoch 89/100\n",
      "1/1 [==============================] - 0s 641us/step - loss: 5.2876e-06\n",
      "Epoch 90/100\n",
      "1/1 [==============================] - 0s 633us/step - loss: 2.8936e-06\n",
      "Epoch 91/100\n",
      "1/1 [==============================] - 0s 608us/step - loss: 1.4914e-06\n",
      "Epoch 92/100\n",
      "1/1 [==============================] - 0s 666us/step - loss: 9.4144e-07\n",
      "Epoch 93/100\n",
      "1/1 [==============================] - 0s 726us/step - loss: 6.6698e-07\n",
      "Epoch 94/100\n",
      "1/1 [==============================] - 0s 739us/step - loss: 5.8411e-07\n",
      "Epoch 95/100\n",
      "1/1 [==============================] - 0s 682us/step - loss: 5.9222e-07\n",
      "Epoch 96/100\n",
      "1/1 [==============================] - 0s 856us/step - loss: 7.2765e-07\n",
      "Epoch 97/100\n",
      "1/1 [==============================] - 0s 615us/step - loss: 1.0207e-06\n",
      "Epoch 98/100\n",
      "1/1 [==============================] - 0s 934us/step - loss: 1.6603e-06\n",
      "Epoch 99/100\n",
      "1/1 [==============================] - 0s 653us/step - loss: 2.8436e-06\n",
      "Epoch 100/100\n",
      "1/1 [==============================] - 0s 748us/step - loss: 4.8263e-06\n",
      "CPU times: user 1.92 s, sys: 204 ms, total: 2.13 s\n",
      "Wall time: 1.64 s\n"
     ]
    }
   ],
   "source": [
    "%%time\n",
    "#  Train the model\n",
    "history = model.fit(\n",
    "    x=X_train, y=Y_validation,\n",
    "    batch_size=32, epochs=100)"
   ]
  },
  {
   "cell_type": "code",
   "execution_count": 9,
   "metadata": {},
   "outputs": [
    {
     "data": {
      "image/png": "[encoded data removed]",
      "text/plain": [
       "<Figure size 1008x288 with 1 Axes>"
      ]
     },
     "metadata": {},
     "output_type": "display_data"
    }
   ],
   "source": [
    "#  Plot loss function\n",
    "pd.Series(history.history['loss']).plot(figsize=(14, 4));"
   ]
  },
  {
   "cell_type": "markdown",
   "metadata": {},
   "source": [
    "## Make Predictions"
   ]
  },
  {
   "cell_type": "code",
   "execution_count": 10,
   "metadata": {},
   "outputs": [
    {
     "data": {
      "text/plain": [
       "array([-0.00202798,  0.01658421,  0.07114387,  0.05685102,  0.05924457,\n",
       "        0.08186363,  0.02193652], dtype=float32)"
      ]
     },
     "execution_count": 10,
     "metadata": {},
     "output_type": "execute_result"
    }
   ],
   "source": [
    "#  Make predictions using X_train data\n",
    "predictions = model.predict(x=X_train)[0]\n",
    "predictions"
   ]
  },
  {
   "cell_type": "code",
   "execution_count": 11,
   "metadata": {},
   "outputs": [],
   "source": [
    "def denormalize(series, last_value):\n",
    "    \"\"\"Denormalize the values for a given series.\n",
    "    \n",
    "    This uses the last value available (i.e. the last\n",
    "    closing price of the week before our prediction)\n",
    "    as a reference for scaling the predicted results.\n",
    "    \"\"\"\n",
    "    result = last_value * (series + 1)\n",
    "    return result"
   ]
  },
  {
   "cell_type": "code",
   "execution_count": 12,
   "metadata": {},
   "outputs": [
    {
     "data": {
      "text/plain": [
       "array([2650.494 , 2699.9253, 2844.8293, 2806.8694, 2813.2266, 2873.2998,\n",
       "       2714.1406], dtype=float32)"
      ]
     },
     "execution_count": 12,
     "metadata": {},
     "output_type": "execute_result"
    }
   ],
   "source": [
    "#  Denormalize predictions\n",
    "last_weeks_value = train[train['date'] == train['date'][:-7].max()]['close'].values[0]\n",
    "\n",
    "denormalized_prediction = denormalize(predictions, last_weeks_value)\n",
    "denormalized_prediction"
   ]
  },
  {
   "cell_type": "code",
   "execution_count": 13,
   "metadata": {},
   "outputs": [
    {
     "data": {
      "image/png": "[encoded data removed]",
      "text/plain": [
       "<Figure size 1008x288 with 1 Axes>"
      ]
     },
     "metadata": {},
     "output_type": "display_data"
    }
   ],
   "source": [
    "#  Plot denormalized predictions against actual predictions\n",
    "plt.figure(figsize=(14, 4))\n",
    "\n",
    "plt.plot(train['close'][-7:].values, label='Actual')\n",
    "plt.plot(denormalized_prediction, color='#d35400', label='Predicted')\n",
    "\n",
    "plt.grid()\n",
    "plt.legend();"
   ]
  },
  {
   "cell_type": "code",
   "execution_count": 14,
   "metadata": {},
   "outputs": [
    {
     "data": {
      "image/png": "[encoded data removed]",
      "text/plain": [
       "<Figure size 1008x288 with 1 Axes>"
      ]
     },
     "metadata": {},
     "output_type": "display_data"
    }
   ],
   "source": [
    "prediction_plot = np.zeros(len(train)-2)\n",
    "prediction_plot[:] = np.nan\n",
    "prediction_plot[-7:] = denormalized_prediction\n",
    "\n",
    "plt.figure(figsize=(14, 4))\n",
    "plt.plot(train['close'][-30:].values, label='Actual')\n",
    "plt.plot(prediction_plot[-30:], color='#d35400', linestyle='--', label='Predicted')\n",
    "plt.axvline(30 - 7, color='r', linestyle='--', linewidth=1)\n",
    "\n",
    "plt.grid()\n",
    "plt.legend(loc='lower right');"
   ]
  },
  {
   "cell_type": "code",
   "execution_count": 15,
   "metadata": {
    "eid": "8ce0c2"
   },
   "outputs": [],
   "source": [
    "#  TASK:\n",
    "#  Save model to disk\n",
    "#\n",
    "model.save('/home/praveen/Desktop/Projects/technocolab/Activity_5/bitcoin_lstm_v1.h5')"
   ]
  },
  {
   "cell_type": "markdown",
   "metadata": {},
   "source": [
    "In this activity, we have assembled a complete deep learning system: from data to prediction. The model created in this activity need a number of improvements before it can be considered useful. However, it serves as a great starting point from which we will continuously improve."
   ]
  }
 ],
 "metadata": {
  "kernelspec": {
   "display_name": "Python 3",
   "language": "python",
   "name": "python3"
  },
  "language_info": {
   "codemirror_mode": {
    "name": "ipython",
    "version": 3
   },
   "file_extension": ".py",
   "mimetype": "text/x-python",
   "name": "python",
   "nbconvert_exporter": "python",
   "pygments_lexer": "ipython3",
   "version": "3.8.3"
  }
 },
 "nbformat": 4,
 "nbformat_minor": 4
}
