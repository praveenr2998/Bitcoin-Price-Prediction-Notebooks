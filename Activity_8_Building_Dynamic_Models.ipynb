{
 "cells": [
  {
   "cell_type": "markdown",
   "metadata": {},
   "source": [
    "# Activity 8: Re-training a model dynamically\n",
    "In this activity, we re-train our model every time new data is available.\n",
    "\n",
    "First, we start by importing `cryptonic`. Cryptonic is a simple software application developed for this course that implements all the steps up to this section using Python classes and modules. Consider Cryptonic a template on how you could develop similar applications."
   ]
  },
  {
   "cell_type": "code",
   "execution_count": null,
   "metadata": {},
   "outputs": [],
   "source": [
    "from cryptonic import Model\n",
    "from cryptonic import CoinMarketCap\n",
    "from cryptonic.models import normalizations\n",
    "\n",
    "from tqdm import tqdm_notebook\n",
    "\n",
    "import pandas as pd\n",
    "\n",
    "#%autosave 5\n",
    "%matplotlib inline"
   ]
  },
  {
   "cell_type": "markdown",
   "metadata": {},
   "source": [
    "## A seperate notebook is dedicated for downloading data from kaggle and preprocessing the data suitable for training the model\n"
   ]
  },
  {
   "cell_type": "markdown",
   "metadata": {},
   "source": [
    "The data contains practically the same variables from our earlier dataset. However, much of the data comes from an earlier period. Recent Bitcoin prices have gained a lot of volatility if compared to the prices of a few years ago. Before using this data in our model, let's make sure to filter it to dates after January 1, 2017."
   ]
  },
  {
   "cell_type": "code",
   "execution_count": 10,
   "metadata": {
    "eid": "0ff8fe",
    "scrolled": true
   },
   "outputs": [
    {
     "data": {
      "text/html": [
       "<div>\n",
       "<style scoped>\n",
       "    .dataframe tbody tr th:only-of-type {\n",
       "        vertical-align: middle;\n",
       "    }\n",
       "\n",
       "    .dataframe tbody tr th {\n",
       "        vertical-align: top;\n",
       "    }\n",
       "\n",
       "    .dataframe thead th {\n",
       "        text-align: right;\n",
       "    }\n",
       "</style>\n",
       "<table border=\"1\" class=\"dataframe\">\n",
       "  <thead>\n",
       "    <tr style=\"text-align: right;\">\n",
       "      <th></th>\n",
       "      <th>date</th>\n",
       "      <th>close</th>\n",
       "      <th>iso_week</th>\n",
       "      <th>volume</th>\n",
       "    </tr>\n",
       "  </thead>\n",
       "  <tbody>\n",
       "    <tr>\n",
       "      <th>2189</th>\n",
       "      <td>2017-12-28</td>\n",
       "      <td>14496.923236</td>\n",
       "      <td>2017-58</td>\n",
       "      <td>11.562764</td>\n",
       "    </tr>\n",
       "    <tr>\n",
       "      <th>2190</th>\n",
       "      <td>2017-12-29</td>\n",
       "      <td>14428.620743</td>\n",
       "      <td>2017-59</td>\n",
       "      <td>9.542329</td>\n",
       "    </tr>\n",
       "    <tr>\n",
       "      <th>2191</th>\n",
       "      <td>2017-12-30</td>\n",
       "      <td>13559.031569</td>\n",
       "      <td>2017-59</td>\n",
       "      <td>15.210698</td>\n",
       "    </tr>\n",
       "    <tr>\n",
       "      <th>2192</th>\n",
       "      <td>2017-12-31</td>\n",
       "      <td>13106.492139</td>\n",
       "      <td>2017-59</td>\n",
       "      <td>8.894869</td>\n",
       "    </tr>\n",
       "    <tr>\n",
       "      <th>2193</th>\n",
       "      <td>2018-01-01</td>\n",
       "      <td>13548.910740</td>\n",
       "      <td>2018-01</td>\n",
       "      <td>5.323438</td>\n",
       "    </tr>\n",
       "  </tbody>\n",
       "</table>\n",
       "</div>"
      ],
      "text/plain": [
       "            date         close iso_week     volume\n",
       "2189  2017-12-28  14496.923236  2017-58  11.562764\n",
       "2190  2017-12-29  14428.620743  2017-59   9.542329\n",
       "2191  2017-12-30  13559.031569  2017-59  15.210698\n",
       "2192  2017-12-31  13106.492139  2017-59   8.894869\n",
       "2193  2018-01-01  13548.910740  2018-01   5.323438"
      ]
     },
     "execution_count": 10,
     "metadata": {},
     "output_type": "execute_result"
    }
   ],
   "source": [
    "#\n",
    "#  Using the Pandas API, filter the dataframe\n",
    "#  for observations from 2017 only. \n",
    "# \n",
    "#  Hint: use the `date` variable.\n",
    "#\n",
    "model_data = pd.read_csv(\"/home/praveen/Desktop/Projects/technocolab/own/historic_data.csv\")\n",
    "model_data = model_data[model_data['date'] >= '2017-01-01']\n",
    "model_data = model_data[model_data['date'] <= '2018-01-01']\n",
    "model_data.tail()"
   ]
  },
  {
   "cell_type": "markdown",
   "metadata": {},
   "source": [
    "## The `Model()` Class\n",
    "We have also created the class `Model()` which compiles all the code we have written so far. We will use that class to build, train, and evaluate our model."
   ]
  },
  {
   "cell_type": "code",
   "execution_count": 11,
   "metadata": {},
   "outputs": [],
   "source": [
    "M = Model(data=model_data,\n",
    "          variable='close',\n",
    "          predicted_period_size=7)"
   ]
  },
  {
   "cell_type": "code",
   "execution_count": 12,
   "metadata": {},
   "outputs": [
    {
     "data": {
      "text/plain": [
       "<tensorflow.python.keras.engine.sequential.Sequential at 0x7fb72222d8d0>"
      ]
     },
     "execution_count": 12,
     "metadata": {},
     "output_type": "execute_result"
    }
   ],
   "source": [
    "M.build()"
   ]
  },
  {
   "cell_type": "code",
   "execution_count": 13,
   "metadata": {
    "scrolled": true
   },
   "outputs": [
    {
     "name": "stdout",
     "output_type": "stream",
     "text": [
      "Epoch 1/100\n",
      "1/1 [==============================] - 0s 587us/step - loss: 0.0096\n",
      "Epoch 2/100\n",
      "1/1 [==============================] - 0s 532us/step - loss: 0.0079\n",
      "Epoch 3/100\n",
      "1/1 [==============================] - 0s 799us/step - loss: 0.0070\n",
      "Epoch 4/100\n",
      "1/1 [==============================] - 0s 575us/step - loss: 0.0063\n",
      "Epoch 5/100\n",
      "1/1 [==============================] - 0s 535us/step - loss: 0.0057\n",
      "Epoch 6/100\n",
      "1/1 [==============================] - 0s 859us/step - loss: 0.0052\n",
      "Epoch 7/100\n",
      "1/1 [==============================] - 0s 776us/step - loss: 0.0048\n",
      "Epoch 8/100\n",
      "1/1 [==============================] - 0s 1ms/step - loss: 0.0045\n",
      "Epoch 9/100\n",
      "1/1 [==============================] - 0s 619us/step - loss: 0.0041\n",
      "Epoch 10/100\n",
      "1/1 [==============================] - 0s 1ms/step - loss: 0.0038\n",
      "Epoch 11/100\n",
      "1/1 [==============================] - 0s 627us/step - loss: 0.0035\n",
      "Epoch 12/100\n",
      "1/1 [==============================] - 0s 1ms/step - loss: 0.0032\n",
      "Epoch 13/100\n",
      "1/1 [==============================] - 0s 615us/step - loss: 0.0030\n",
      "Epoch 14/100\n",
      "1/1 [==============================] - 0s 683us/step - loss: 0.0028\n",
      "Epoch 15/100\n",
      "1/1 [==============================] - 0s 705us/step - loss: 0.0025\n",
      "Epoch 16/100\n",
      "1/1 [==============================] - 0s 761us/step - loss: 0.0023\n",
      "Epoch 17/100\n",
      "1/1 [==============================] - 0s 461us/step - loss: 0.0021\n",
      "Epoch 18/100\n",
      "1/1 [==============================] - 0s 615us/step - loss: 0.0020\n",
      "Epoch 19/100\n",
      "1/1 [==============================] - 0s 561us/step - loss: 0.0018\n",
      "Epoch 20/100\n",
      "1/1 [==============================] - 0s 549us/step - loss: 0.0016\n",
      "Epoch 21/100\n",
      "1/1 [==============================] - 0s 598us/step - loss: 0.0015\n",
      "Epoch 22/100\n",
      "1/1 [==============================] - 0s 549us/step - loss: 0.0014\n",
      "Epoch 23/100\n",
      "1/1 [==============================] - 0s 566us/step - loss: 0.0012\n",
      "Epoch 24/100\n",
      "1/1 [==============================] - 0s 483us/step - loss: 0.0011\n",
      "Epoch 25/100\n",
      "1/1 [==============================] - 0s 667us/step - loss: 9.9556e-04\n",
      "Epoch 26/100\n",
      "1/1 [==============================] - 0s 739us/step - loss: 8.9260e-04\n",
      "Epoch 27/100\n",
      "1/1 [==============================] - 0s 649us/step - loss: 7.9719e-04\n",
      "Epoch 28/100\n",
      "1/1 [==============================] - 0s 715us/step - loss: 7.0899e-04\n",
      "Epoch 29/100\n",
      "1/1 [==============================] - 0s 724us/step - loss: 6.2771e-04\n",
      "Epoch 30/100\n",
      "1/1 [==============================] - 0s 592us/step - loss: 5.5307e-04\n",
      "Epoch 31/100\n",
      "1/1 [==============================] - 0s 587us/step - loss: 4.8479e-04\n",
      "Epoch 32/100\n",
      "1/1 [==============================] - 0s 415us/step - loss: 4.2261e-04\n",
      "Epoch 33/100\n",
      "1/1 [==============================] - 0s 515us/step - loss: 3.6624e-04\n",
      "Epoch 34/100\n",
      "1/1 [==============================] - 0s 532us/step - loss: 3.1542e-04\n",
      "Epoch 35/100\n",
      "1/1 [==============================] - 0s 510us/step - loss: 2.6986e-04\n",
      "Epoch 36/100\n",
      "1/1 [==============================] - 0s 496us/step - loss: 2.2926e-04\n",
      "Epoch 37/100\n",
      "1/1 [==============================] - 0s 629us/step - loss: 1.9332e-04\n",
      "Epoch 38/100\n",
      "1/1 [==============================] - 0s 444us/step - loss: 1.6174e-04\n",
      "Epoch 39/100\n",
      "1/1 [==============================] - 0s 630us/step - loss: 1.3420e-04\n",
      "Epoch 40/100\n",
      "1/1 [==============================] - 0s 597us/step - loss: 1.1037e-04\n",
      "Epoch 41/100\n",
      "1/1 [==============================] - 0s 650us/step - loss: 8.9951e-05\n",
      "Epoch 42/100\n",
      "1/1 [==============================] - 0s 619us/step - loss: 7.2601e-05\n",
      "Epoch 43/100\n",
      "1/1 [==============================] - 0s 533us/step - loss: 5.8008e-05\n",
      "Epoch 44/100\n",
      "1/1 [==============================] - 0s 691us/step - loss: 4.5857e-05\n",
      "Epoch 45/100\n",
      "1/1 [==============================] - 0s 676us/step - loss: 3.5848e-05\n",
      "Epoch 46/100\n",
      "1/1 [==============================] - 0s 769us/step - loss: 2.7695e-05\n",
      "Epoch 47/100\n",
      "1/1 [==============================] - 0s 713us/step - loss: 2.1132e-05\n",
      "Epoch 48/100\n",
      "1/1 [==============================] - 0s 909us/step - loss: 1.5913e-05\n",
      "Epoch 49/100\n",
      "1/1 [==============================] - 0s 743us/step - loss: 1.1816e-05\n",
      "Epoch 50/100\n",
      "1/1 [==============================] - 0s 914us/step - loss: 8.6430e-06\n",
      "Epoch 51/100\n",
      "1/1 [==============================] - 0s 548us/step - loss: 6.2210e-06\n",
      "Epoch 52/100\n",
      "1/1 [==============================] - 0s 653us/step - loss: 4.4006e-06\n",
      "Epoch 53/100\n",
      "1/1 [==============================] - 0s 505us/step - loss: 3.0553e-06\n",
      "Epoch 54/100\n",
      "1/1 [==============================] - 0s 814us/step - loss: 2.0793e-06\n",
      "Epoch 55/100\n",
      "1/1 [==============================] - 0s 547us/step - loss: 1.3931e-06\n",
      "Epoch 56/100\n",
      "1/1 [==============================] - 0s 561us/step - loss: 1.0410e-06\n",
      "Epoch 57/100\n",
      "1/1 [==============================] - 0s 481us/step - loss: 1.1524e-06\n",
      "Epoch 58/100\n",
      "1/1 [==============================] - 0s 537us/step - loss: 9.2211e-07\n",
      "Epoch 59/100\n",
      "1/1 [==============================] - 0s 582us/step - loss: 5.1169e-07\n",
      "Epoch 60/100\n",
      "1/1 [==============================] - 0s 520us/step - loss: 2.7756e-07\n",
      "Epoch 61/100\n",
      "1/1 [==============================] - 0s 613us/step - loss: 1.6818e-07\n",
      "Epoch 62/100\n",
      "1/1 [==============================] - 0s 735us/step - loss: 1.2945e-07\n",
      "Epoch 63/100\n",
      "1/1 [==============================] - 0s 638us/step - loss: 1.5189e-07\n",
      "Epoch 64/100\n",
      "1/1 [==============================] - 0s 525us/step - loss: 2.7834e-07\n",
      "Epoch 65/100\n",
      "1/1 [==============================] - 0s 646us/step - loss: 6.2537e-07\n",
      "Epoch 66/100\n",
      "1/1 [==============================] - 0s 616us/step - loss: 1.3386e-06\n",
      "Epoch 67/100\n",
      "1/1 [==============================] - 0s 713us/step - loss: 2.2728e-06\n",
      "Epoch 68/100\n",
      "1/1 [==============================] - 0s 718us/step - loss: 3.1752e-06\n",
      "Epoch 69/100\n",
      "1/1 [==============================] - 0s 749us/step - loss: 3.6943e-06\n",
      "Epoch 70/100\n",
      "1/1 [==============================] - 0s 694us/step - loss: 3.6852e-06\n",
      "Epoch 71/100\n",
      "1/1 [==============================] - 0s 499us/step - loss: 3.1617e-06\n",
      "Epoch 72/100\n",
      "1/1 [==============================] - 0s 736us/step - loss: 2.5369e-06\n",
      "Epoch 73/100\n",
      "1/1 [==============================] - 0s 567us/step - loss: 2.0206e-06\n",
      "Epoch 74/100\n",
      "1/1 [==============================] - 0s 932us/step - loss: 1.6924e-06\n",
      "Epoch 75/100\n",
      "1/1 [==============================] - 0s 603us/step - loss: 1.5190e-06\n",
      "Epoch 76/100\n",
      "1/1 [==============================] - 0s 922us/step - loss: 1.4858e-06\n",
      "Epoch 77/100\n",
      "1/1 [==============================] - 0s 510us/step - loss: 1.5713e-06\n",
      "Epoch 78/100\n",
      "1/1 [==============================] - 0s 848us/step - loss: 1.7846e-06\n",
      "Epoch 79/100\n",
      "1/1 [==============================] - 0s 512us/step - loss: 2.1205e-06\n",
      "Epoch 80/100\n",
      "1/1 [==============================] - 0s 537us/step - loss: 2.5724e-06\n",
      "Epoch 81/100\n",
      "1/1 [==============================] - 0s 798us/step - loss: 3.0672e-06\n",
      "Epoch 82/100\n",
      "1/1 [==============================] - 0s 721us/step - loss: 3.4957e-06\n",
      "Epoch 83/100\n",
      "1/1 [==============================] - 0s 791us/step - loss: 3.7251e-06\n",
      "Epoch 84/100\n",
      "1/1 [==============================] - 0s 516us/step - loss: 3.7139e-06\n",
      "Epoch 85/100\n",
      "1/1 [==============================] - 0s 585us/step - loss: 3.5167e-06\n",
      "Epoch 86/100\n",
      "1/1 [==============================] - 0s 614us/step - loss: 3.2422e-06\n",
      "Epoch 87/100\n",
      "1/1 [==============================] - 0s 620us/step - loss: 2.9859e-06\n",
      "Epoch 88/100\n",
      "1/1 [==============================] - 0s 688us/step - loss: 2.8012e-06\n",
      "Epoch 89/100\n",
      "1/1 [==============================] - 0s 819us/step - loss: 2.7128e-06\n",
      "Epoch 90/100\n",
      "1/1 [==============================] - 0s 508us/step - loss: 2.7246e-06\n",
      "Epoch 91/100\n",
      "1/1 [==============================] - 0s 741us/step - loss: 2.8352e-06\n",
      "Epoch 92/100\n",
      "1/1 [==============================] - 0s 664us/step - loss: 3.0305e-06\n",
      "Epoch 93/100\n",
      "1/1 [==============================] - 0s 835us/step - loss: 3.2915e-06\n",
      "Epoch 94/100\n",
      "1/1 [==============================] - 0s 556us/step - loss: 3.5740e-06\n",
      "Epoch 95/100\n",
      "1/1 [==============================] - 0s 590us/step - loss: 3.8324e-06\n",
      "Epoch 96/100\n",
      "1/1 [==============================] - 0s 626us/step - loss: 4.0023e-06\n",
      "Epoch 97/100\n",
      "1/1 [==============================] - 0s 600us/step - loss: 4.0639e-06\n",
      "Epoch 98/100\n",
      "1/1 [==============================] - 0s 677us/step - loss: 4.0020e-06\n",
      "Epoch 99/100\n",
      "1/1 [==============================] - 0s 519us/step - loss: 3.8696e-06\n",
      "Epoch 100/100\n",
      "1/1 [==============================] - 0s 610us/step - loss: 3.6937e-06\n"
     ]
    },
    {
     "data": {
      "text/plain": [
       "<tensorflow.python.keras.callbacks.History at 0x7fb722209c90>"
      ]
     },
     "execution_count": 13,
     "metadata": {},
     "output_type": "execute_result"
    }
   ],
   "source": [
    "M.train(epochs=100, verbose=1)"
   ]
  },
  {
   "cell_type": "markdown",
   "metadata": {},
   "source": [
    "We can now use the model for making predictions with the `predict()` method. The parameter `denormalized` will return values in the original scale of the data. In our case, US dollars."
   ]
  },
  {
   "cell_type": "code",
   "execution_count": 14,
   "metadata": {},
   "outputs": [
    {
     "data": {
      "text/plain": [
       "array([13520.626, 13333.145, 14279.886, 15165.678, 13989.352, 13865.876,\n",
       "       13072.506], dtype=float32)"
      ]
     },
     "execution_count": 14,
     "metadata": {},
     "output_type": "execute_result"
    }
   ],
   "source": [
    "M.predict(denormalized=True)"
   ]
  },
  {
   "cell_type": "markdown",
   "metadata": {},
   "source": [
    "We now evaluate our model to inspect the statistics for the last epoch of training compared to a single test week."
   ]
  },
  {
   "cell_type": "code",
   "execution_count": 15,
   "metadata": {},
   "outputs": [
    {
     "data": {
      "text/plain": [
       "{'mse': 0.0, 'rmse': 736.71, 'mape': 4.1}"
      ]
     },
     "execution_count": 15,
     "metadata": {},
     "output_type": "execute_result"
    }
   ],
   "source": [
    "M.evaluate()"
   ]
  },
  {
   "cell_type": "markdown",
   "metadata": {},
   "source": [
    "Finally, we can now save the trained model on disk for later use."
   ]
  },
  {
   "cell_type": "code",
   "execution_count": 16,
   "metadata": {},
   "outputs": [],
   "source": [
    "M.save('/home/praveen/Desktop/Projects/technocolab/own/Deployement/bitcoin_model_prod_v0.h5')"
   ]
  },
  {
   "cell_type": "markdown",
   "metadata": {},
   "source": [
    "Our `Model()` class can also load a previously trained model when instantiated with the `path` parameter."
   ]
  },
  {
   "cell_type": "code",
   "execution_count": 17,
   "metadata": {},
   "outputs": [],
   "source": [
    "M = Model(path='/home/praveen/Desktop/Projects/technocolab/own/Deployement/bitcoin_model_prod_v0.h5',\n",
    "          data=model_data,\n",
    "          variable='close',\n",
    "          predicted_period_size=7)"
   ]
  },
  {
   "cell_type": "code",
   "execution_count": 18,
   "metadata": {},
   "outputs": [
    {
     "data": {
      "text/plain": [
       "array([13520.626, 13333.145, 14279.886, 15165.678, 13989.352, 13865.876,\n",
       "       13072.506], dtype=float32)"
      ]
     },
     "execution_count": 18,
     "metadata": {},
     "output_type": "execute_result"
    }
   ],
   "source": [
    "M.predict(denormalized=True)"
   ]
  },
  {
   "cell_type": "markdown",
   "metadata": {},
   "source": [
    "## New Data, Re-train Old Model\n",
    "One strategy discussed earlier regards the re-training of our model with new data. In our case, our biggest concern is to shape data in a way that the model has been configured. As an example, we will configure our model to predict a week using 40 weeks. We will first train the model with the first 40 weeks of 2017, then continue to re-train it over the following weeks until we reach week 50."
   ]
  },
  {
   "cell_type": "markdown",
   "metadata": {},
   "source": [
    "First, let's build a model with the first set of data. Notice how we use `7*40 + 7` as the indexer. This is because we use 40 weeks for training and 1 week for testing. "
   ]
  },
  {
   "cell_type": "code",
   "execution_count": 19,
   "metadata": {},
   "outputs": [],
   "source": [
    "M1 = Model(data=model_data[0*7:7*40 + 7],\n",
    "          variable='close',\n",
    "          predicted_period_size=7)"
   ]
  },
  {
   "cell_type": "code",
   "execution_count": 20,
   "metadata": {},
   "outputs": [
    {
     "data": {
      "text/plain": [
       "<tensorflow.python.keras.engine.sequential.Sequential at 0x7fb6d073bd90>"
      ]
     },
     "execution_count": 20,
     "metadata": {},
     "output_type": "execute_result"
    }
   ],
   "source": [
    "M1.build()"
   ]
  },
  {
   "cell_type": "code",
   "execution_count": 21,
   "metadata": {},
   "outputs": [
    {
     "data": {
      "text/plain": [
       "<tensorflow.python.keras.callbacks.History at 0x7fb6d06b2dd0>"
      ]
     },
     "execution_count": 21,
     "metadata": {},
     "output_type": "execute_result"
    }
   ],
   "source": [
    "M1.train()"
   ]
  },
  {
   "cell_type": "code",
   "execution_count": 24,
   "metadata": {
    "eid": "ffd950"
   },
   "outputs": [],
   "source": [
    "#\n",
    "#  Complete the range function and\n",
    "#  the model_data filtering parameters\n",
    "#  using an index to split the data in overlapping\n",
    "#  groups of 7 days. Then, re-train our model\n",
    "#  and collect the results.\n",
    "#\n",
    "#  The variables A, B, C, and D are placeholders.\n",
    "#\n",
    "A = 1\n",
    "B = 10+1\n",
    " \n",
    "results = []\n",
    "for i in range(A, B):\n",
    "    M1.train(model_data[i * 7:7*(40 + i) + 7])\n",
    "    results.append(M.evaluate())"
   ]
  },
  {
   "cell_type": "code",
   "execution_count": 25,
   "metadata": {},
   "outputs": [
    {
     "name": "stdout",
     "output_type": "stream",
     "text": [
      "Week 41: {'mse': 0.0, 'rmse': 736.71, 'mape': 4.1}\n",
      "Week 42: {'mse': 0.0, 'rmse': 736.71, 'mape': 4.1}\n",
      "Week 43: {'mse': 0.0, 'rmse': 736.71, 'mape': 4.1}\n",
      "Week 44: {'mse': 0.0, 'rmse': 736.71, 'mape': 4.1}\n",
      "Week 45: {'mse': 0.0, 'rmse': 736.71, 'mape': 4.1}\n",
      "Week 46: {'mse': 0.0, 'rmse': 736.71, 'mape': 4.1}\n",
      "Week 47: {'mse': 0.0, 'rmse': 736.71, 'mape': 4.1}\n",
      "Week 48: {'mse': 0.0, 'rmse': 736.71, 'mape': 4.1}\n",
      "Week 49: {'mse': 0.0, 'rmse': 736.71, 'mape': 4.1}\n",
      "Week 50: {'mse': 0.0, 'rmse': 736.71, 'mape': 4.1}\n"
     ]
    }
   ],
   "source": [
    "for i, result in enumerate(results):\n",
    "    print(f'Week {40+i+1}: {result}')"
   ]
  },
  {
   "cell_type": "code",
   "execution_count": 26,
   "metadata": {},
   "outputs": [
    {
     "data": {
      "text/plain": [
       "array([14452.525, 14191.626, 13966.943, 12911.824, 12437.634, 10692.574,\n",
       "       10949.453], dtype=float32)"
      ]
     },
     "execution_count": 26,
     "metadata": {},
     "output_type": "execute_result"
    }
   ],
   "source": [
    "M1.predict(denormalized=True)"
   ]
  },
  {
   "cell_type": "markdown",
   "metadata": {},
   "source": [
    "## New Data, New Model\n",
    "Another strategy is to create and train a new model evey time new data is available. This approach tends to reduce catastrophic forgetting, but training time increases as data increases. \n",
    "\n",
    "It's implementation is quite simple.\n",
    "\n",
    "Let's assume we have old data for 49 weeks of 2017 and after a week we now have new data. We represent this wtih the variables `old_data` and `new_data`. "
   ]
  },
  {
   "cell_type": "code",
   "execution_count": 27,
   "metadata": {},
   "outputs": [],
   "source": [
    "old_data = model_data[0*7:7*48 + 7]"
   ]
  },
  {
   "cell_type": "code",
   "execution_count": 28,
   "metadata": {},
   "outputs": [],
   "source": [
    "new_data = model_data[0*7:7*49 + 7]"
   ]
  },
  {
   "cell_type": "code",
   "execution_count": 29,
   "metadata": {},
   "outputs": [],
   "source": [
    "M2 = Model(data=old_data,\n",
    "          variable='close',\n",
    "          predicted_period_size=7)"
   ]
  },
  {
   "cell_type": "code",
   "execution_count": 30,
   "metadata": {},
   "outputs": [
    {
     "data": {
      "text/plain": [
       "<tensorflow.python.keras.callbacks.History at 0x7fb698762750>"
      ]
     },
     "execution_count": 30,
     "metadata": {},
     "output_type": "execute_result"
    }
   ],
   "source": [
    "M2.build()\n",
    "M1.train()"
   ]
  },
  {
   "cell_type": "code",
   "execution_count": 31,
   "metadata": {},
   "outputs": [
    {
     "data": {
      "text/plain": [
       "array([13749.089, 15275.757, 15755.756, 14448.42 , 14440.404, 14673.222,\n",
       "       15833.19 ], dtype=float32)"
      ]
     },
     "execution_count": 31,
     "metadata": {},
     "output_type": "execute_result"
    }
   ],
   "source": [
    "M2.predict(denormalized=True)"
   ]
  },
  {
   "cell_type": "markdown",
   "metadata": {},
   "source": [
    "Now, assume that new data is available. Using this technique we go ahead and create a new model using only the new data. "
   ]
  },
  {
   "cell_type": "code",
   "execution_count": 34,
   "metadata": {
    "eid": "0f2eb7"
   },
   "outputs": [],
   "source": [
    "#\n",
    "#  Re-instantiate the model with the Model()\n",
    "#  class using the new_data variable instead\n",
    "#  of the old_data one. \n",
    "#\n",
    "M3 = Model(data=new_data,\n",
    "          variable='close',\n",
    "          predicted_period_size=7)"
   ]
  },
  {
   "cell_type": "code",
   "execution_count": 35,
   "metadata": {},
   "outputs": [
    {
     "data": {
      "text/plain": [
       "<tensorflow.python.keras.callbacks.History at 0x7fb6985a8b50>"
      ]
     },
     "execution_count": 35,
     "metadata": {},
     "output_type": "execute_result"
    }
   ],
   "source": [
    "M3.build()\n",
    "M3.train()"
   ]
  },
  {
   "cell_type": "code",
   "execution_count": 36,
   "metadata": {},
   "outputs": [
    {
     "data": {
      "text/plain": [
       "array([17857.56 , 20057.475, 21191.371, 21276.479, 20818.354, 21753.63 ,\n",
       "       22744.686], dtype=float32)"
      ]
     },
     "execution_count": 36,
     "metadata": {},
     "output_type": "execute_result"
    }
   ],
   "source": [
    "M3.predict(denormalized=True)"
   ]
  },
  {
   "cell_type": "markdown",
   "metadata": {},
   "source": [
    "This approach is very simple to implement and tends to work well. We will be using this to deploy our application."
   ]
  }
 ],
 "metadata": {
  "kernelspec": {
   "display_name": "Python 3",
   "language": "python",
   "name": "python3"
  },
  "language_info": {
   "codemirror_mode": {
    "name": "ipython",
    "version": 3
   },
   "file_extension": ".py",
   "mimetype": "text/x-python",
   "name": "python",
   "nbconvert_exporter": "python",
   "pygments_lexer": "ipython3",
   "version": "3.8.3"
  }
 },
 "nbformat": 4,
 "nbformat_minor": 4
}
